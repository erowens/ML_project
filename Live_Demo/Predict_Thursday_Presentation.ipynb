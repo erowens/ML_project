{
 "cells": [
  {
   "cell_type": "code",
   "execution_count": 1,
   "metadata": {
    "slideshow": {
     "slide_type": "slide"
    }
   },
   "outputs": [],
   "source": [
    "from sklearn.linear_model import LinearRegression\n",
    "from sklearn.ensemble import BaggingRegressor\n",
    "import numpy as np\n",
    "import pandas as pd"
   ]
  },
  {
   "cell_type": "code",
   "execution_count": 2,
   "metadata": {
    "slideshow": {
     "slide_type": "fragment"
    }
   },
   "outputs": [],
   "source": [
    "reduced = pd.read_csv(\"final.csv\")\n",
    "reduced = reduced.drop(columns=\"Unnamed: 0\")"
   ]
  },
  {
   "cell_type": "markdown",
   "metadata": {
    "slideshow": {
     "slide_type": "slide"
    }
   },
   "source": [
    "<center><img src=\"x_head.png\"></center>"
   ]
  },
  {
   "cell_type": "code",
   "execution_count": 4,
   "metadata": {
    "slideshow": {
     "slide_type": "slide"
    }
   },
   "outputs": [],
   "source": [
    "jag_predicted = (37 / 2) - (5.5 / 2)\n",
    "titan_predicted = (37 / 2) + (5.5 / 2)\n",
    "jag_half_sc = 2\n",
    "titan_half_sc = 16\n",
    "jag_patt = 17\n",
    "titan_patt = 16\n",
    "jag_ypa = 3.8\n",
    "titan_ypa = 6.0\n",
    "jag_comppct = 12 / 17\n",
    "titan_comppct = 12 / 16\n",
    "jag_ratt = 15\n",
    "titan_ratt = 11\n",
    "jag_ypr = 1.7\n",
    "titan_ypr = 12.8\n",
    "jag_int_pct = 0\n",
    "titan_int_pct = 1 / 17"
   ]
  },
  {
   "cell_type": "code",
   "execution_count": 5,
   "metadata": {
    "slideshow": {
     "slide_type": "slide"
    }
   },
   "outputs": [],
   "source": [
    "predscores = [titan_predicted, jag_predicted]\n",
    "tmhalfsc = [titan_half_sc, jag_half_sc]\n",
    "opphalfsc = [jag_half_sc, titan_half_sc]\n",
    "patt = [titan_patt, jag_patt]\n",
    "ypa = [titan_ypa, jag_ypa]\n",
    "comppct = [titan_comppct, jag_comppct]\n",
    "ratt = [titan_ratt, jag_ratt]\n",
    "ypr = [titan_ypr, jag_ypr]\n",
    "int_pct = [titan_int_pct, jag_int_pct]"
   ]
  },
  {
   "cell_type": "code",
   "execution_count": 6,
   "metadata": {
    "slideshow": {
     "slide_type": "fragment"
    }
   },
   "outputs": [],
   "source": [
    "thursday_night = np.array([predscores, tmhalfsc, opphalfsc, patt, \n",
    "                           ypa, comppct, ratt, ypr, int_pct]).T\n",
    "final_score = [30, 9]\n",
    "pre_game_pred = [int(x) for x in predscores]"
   ]
  },
  {
   "cell_type": "code",
   "execution_count": 7,
   "metadata": {
    "slideshow": {
     "slide_type": "slide"
    }
   },
   "outputs": [],
   "source": [
    "X = reduced.drop(columns=[\"scores\", \"int_pct\", \"sack_pct\", \n",
    "                          \"sack_yd_pct\", \"fum_pct\"])\n",
    "y = reduced.scores"
   ]
  },
  {
   "cell_type": "code",
   "execution_count": 8,
   "metadata": {
    "slideshow": {
     "slide_type": "fragment"
    }
   },
   "outputs": [],
   "source": [
    "bag = BaggingRegressor(LinearRegression(), n_estimators=59, max_samples=0.92,\n",
    "                             bootstrap=True, n_jobs=-1)"
   ]
  },
  {
   "cell_type": "code",
   "execution_count": 9,
   "metadata": {
    "slideshow": {
     "slide_type": "fragment"
    }
   },
   "outputs": [
    {
     "data": {
      "text/plain": [
       "BaggingRegressor(base_estimator=LinearRegression(copy_X=True, fit_intercept=True, n_jobs=None,\n",
       "         normalize=False),\n",
       "         bootstrap=True, bootstrap_features=False, max_features=1.0,\n",
       "         max_samples=0.92, n_estimators=59, n_jobs=-1, oob_score=False,\n",
       "         random_state=None, verbose=0, warm_start=False)"
      ]
     },
     "execution_count": 9,
     "metadata": {},
     "output_type": "execute_result"
    }
   ],
   "source": [
    "bag.fit(X, y)"
   ]
  },
  {
   "cell_type": "code",
   "execution_count": 10,
   "metadata": {
    "slideshow": {
     "slide_type": "slide"
    }
   },
   "outputs": [],
   "source": [
    "pred = bag.predict(thursday_night)"
   ]
  },
  {
   "cell_type": "code",
   "execution_count": 11,
   "metadata": {
    "slideshow": {
     "slide_type": "fragment"
    }
   },
   "outputs": [],
   "source": [
    "pred = [int(x) for x in pred]"
   ]
  },
  {
   "cell_type": "code",
   "execution_count": 12,
   "metadata": {
    "scrolled": true,
    "slideshow": {
     "slide_type": "fragment"
    }
   },
   "outputs": [],
   "source": [
    "results = pd.DataFrame([pre_game_pred, pred, final_score], \n",
    "                       columns=[\"Titans\", \"Jaguars\"], \n",
    "                       index=[\"Pre-Game Prediction\", \"Half-Time Prediction\", \n",
    "                              \"Actual\"])"
   ]
  },
  {
   "cell_type": "markdown",
   "metadata": {},
   "source": [
    "<center><img src=\"spread.png\"></center>"
   ]
  },
  {
   "cell_type": "markdown",
   "metadata": {
    "slideshow": {
     "slide_type": "slide"
    }
   },
   "source": [
    "<center><img src=\"results.png\" width=75%></center>"
   ]
  }
 ],
 "metadata": {
  "celltoolbar": "Slideshow",
  "kernelspec": {
   "display_name": "Python 3",
   "language": "python",
   "name": "python3"
  },
  "language_info": {
   "codemirror_mode": {
    "name": "ipython",
    "version": 3
   },
   "file_extension": ".py",
   "mimetype": "text/x-python",
   "name": "python",
   "nbconvert_exporter": "python",
   "pygments_lexer": "ipython3",
   "version": "3.6.6"
  }
 },
 "nbformat": 4,
 "nbformat_minor": 2
}

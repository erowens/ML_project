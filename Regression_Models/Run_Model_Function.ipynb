{
 "cells": [
  {
   "cell_type": "code",
   "execution_count": null,
   "metadata": {},
   "outputs": [],
   "source": [
    "def rmse(pred, y):\n",
    "    n = len(y)\n",
    "    RMSE = np.sqrt(sum((pred - y)**2) / n)\n",
    "    return RMSE"
   ]
  },
  {
   "cell_type": "code",
   "execution_count": null,
   "metadata": {},
   "outputs": [],
   "source": [
    "def run_model(model, X, y, num_iterations):\n",
    "    rmse_scores = []\n",
    "    r2_scores = []\n",
    "    rand_state = np.random.randint(0, num_iterations*10, num_iterations)\n",
    "    for i in rand_state:\n",
    "        X_train, X_test, y_train, y_test = train_test_split(X, y, test_size=0.25, random_state=i)\n",
    "        my_model = model.fit(X_train, y_train)\n",
    "        pred = my_model.predict(X_test)\n",
    "        r2_scores.append(my_model.score(X_test, y_test))\n",
    "        rmse_scores.append(rmse(pred, y_test))\n",
    "    scores = list(zip(rand_state, rmse_scores, r2_scores))\n",
    "    sorted_scores = sorted(scores, key=lambda x: x[1])\n",
    "    return sorted_scores, rmse_scores, r2_scores"
   ]
  },
  {
   "cell_type": "code",
   "execution_count": null,
   "metadata": {},
   "outputs": [],
   "source": [
    "model = LinearRegression()"
   ]
  },
  {
   "cell_type": "code",
   "execution_count": null,
   "metadata": {},
   "outputs": [],
   "source": [
    "test_scores, test_rmse, test_r2 = run_model(model, X, y, 1000)"
   ]
  },
  {
   "cell_type": "code",
   "execution_count": null,
   "metadata": {},
   "outputs": [],
   "source": [
    "# best seed\n",
    "test_scores[0]"
   ]
  },
  {
   "cell_type": "code",
   "execution_count": null,
   "metadata": {},
   "outputs": [],
   "source": [
    "# mean and medians of RMSE and R^2\n",
    "np.mean(test_rmse)\n",
    "np.median(test_rmse)\n",
    "np.mean(test_r2)\n",
    "np.median(test_r2)"
   ]
  }
 ],
 "metadata": {
  "kernelspec": {
   "display_name": "Python 3",
   "language": "python",
   "name": "python3"
  },
  "language_info": {
   "codemirror_mode": {
    "name": "ipython",
    "version": 3
   },
   "file_extension": ".py",
   "mimetype": "text/x-python",
   "name": "python",
   "nbconvert_exporter": "python",
   "pygments_lexer": "ipython3",
   "version": "3.6.6"
  }
 },
 "nbformat": 4,
 "nbformat_minor": 2
}

{
 "cells": [
  {
   "cell_type": "code",
   "execution_count": 6,
   "metadata": {
    "ExecuteTime": {
     "end_time": "2018-12-04T20:59:44.730918Z",
     "start_time": "2018-12-04T20:59:44.195781Z"
    }
   },
   "outputs": [],
   "source": [
    "from sklearn.ensemble import RandomForestRegressor\n",
    "from sklearn.tree import DecisionTreeRegressor\n",
    "from sklearn.model_selection import train_test_split\n",
    "from math import sqrt\n",
    "import numpy as np\n",
    "import pandas as pd"
   ]
  },
  {
   "cell_type": "code",
   "execution_count": 157,
   "metadata": {
    "ExecuteTime": {
     "end_time": "2018-12-06T07:36:01.854317Z",
     "start_time": "2018-12-06T07:36:01.832833Z"
    }
   },
   "outputs": [],
   "source": [
    "reduced = pd.read_csv(\"../reduced_noot.csv\")"
   ]
  },
  {
   "cell_type": "code",
   "execution_count": 158,
   "metadata": {
    "ExecuteTime": {
     "end_time": "2018-12-06T07:36:02.415248Z",
     "start_time": "2018-12-06T07:36:02.410420Z"
    }
   },
   "outputs": [],
   "source": [
    "reduced = reduced.drop(columns = reduced.columns[0])"
   ]
  },
  {
   "cell_type": "code",
   "execution_count": 11,
   "metadata": {
    "ExecuteTime": {
     "end_time": "2018-12-04T21:00:25.034593Z",
     "start_time": "2018-12-04T21:00:25.023846Z"
    }
   },
   "outputs": [],
   "source": [
    "# reduced.scores = reduced.scores ** .5\n",
    "# reduced.tmhalfsc = reduced.tmhalfsc ** .5\n",
    "# reduced.predscores = reduced.predscores ** .5"
   ]
  },
  {
   "cell_type": "code",
   "execution_count": 159,
   "metadata": {
    "ExecuteTime": {
     "end_time": "2018-12-06T07:36:07.752288Z",
     "start_time": "2018-12-06T07:36:07.747711Z"
    }
   },
   "outputs": [],
   "source": [
    "base_X = reduced.drop(columns='scores')\n",
    "# base_X = reduced[['predscores','tmhalfsc','opphalfsc','airya','yaca','psd']]\n",
    "base_y = reduced[\"scores\"]"
   ]
  },
  {
   "cell_type": "code",
   "execution_count": 94,
   "metadata": {
    "ExecuteTime": {
     "end_time": "2018-12-04T23:29:20.166420Z",
     "start_time": "2018-12-04T23:29:20.160942Z"
    }
   },
   "outputs": [],
   "source": [
    "def rmse(pred, y):\n",
    "    n = len(y)\n",
    "    RMSE = sqrt(sum((pred - y)**2) / n)\n",
    "    return RMSE"
   ]
  },
  {
   "cell_type": "code",
   "execution_count": 148,
   "metadata": {
    "ExecuteTime": {
     "end_time": "2018-12-06T05:12:35.657931Z",
     "start_time": "2018-12-06T05:12:35.652505Z"
    }
   },
   "outputs": [],
   "source": [
    "from sklearn.linear_model import LinearRegression, Lasso, Ridge, ElasticNet\n",
    "from sklearn.model_selection import GridSearchCV\n",
    "from sklearn.metrics import mean_squared_error, r2_score"
   ]
  },
  {
   "cell_type": "code",
   "execution_count": 140,
   "metadata": {
    "ExecuteTime": {
     "end_time": "2018-12-06T05:07:44.164253Z",
     "start_time": "2018-12-06T05:07:44.155273Z"
    },
    "collapsed": true
   },
   "outputs": [
    {
     "data": {
      "text/plain": [
       "{'explained_variance': make_scorer(explained_variance_score),\n",
       " 'r2': make_scorer(r2_score),\n",
       " 'neg_median_absolute_error': make_scorer(median_absolute_error, greater_is_better=False),\n",
       " 'neg_mean_absolute_error': make_scorer(mean_absolute_error, greater_is_better=False),\n",
       " 'neg_mean_squared_error': make_scorer(mean_squared_error, greater_is_better=False),\n",
       " 'neg_mean_squared_log_error': make_scorer(mean_squared_log_error, greater_is_better=False),\n",
       " 'accuracy': make_scorer(accuracy_score),\n",
       " 'roc_auc': make_scorer(roc_auc_score, needs_threshold=True),\n",
       " 'balanced_accuracy': make_scorer(balanced_accuracy_score),\n",
       " 'average_precision': make_scorer(average_precision_score, needs_threshold=True),\n",
       " 'neg_log_loss': make_scorer(log_loss, greater_is_better=False, needs_proba=True),\n",
       " 'brier_score_loss': make_scorer(brier_score_loss, greater_is_better=False, needs_proba=True),\n",
       " 'adjusted_rand_score': make_scorer(adjusted_rand_score),\n",
       " 'homogeneity_score': make_scorer(homogeneity_score),\n",
       " 'completeness_score': make_scorer(completeness_score),\n",
       " 'v_measure_score': make_scorer(v_measure_score),\n",
       " 'mutual_info_score': make_scorer(mutual_info_score),\n",
       " 'adjusted_mutual_info_score': make_scorer(adjusted_mutual_info_score),\n",
       " 'normalized_mutual_info_score': make_scorer(normalized_mutual_info_score),\n",
       " 'fowlkes_mallows_score': make_scorer(fowlkes_mallows_score),\n",
       " 'precision': make_scorer(precision_score),\n",
       " 'precision_macro': make_scorer(precision_score, pos_label=None, average=macro),\n",
       " 'precision_micro': make_scorer(precision_score, pos_label=None, average=micro),\n",
       " 'precision_samples': make_scorer(precision_score, pos_label=None, average=samples),\n",
       " 'precision_weighted': make_scorer(precision_score, pos_label=None, average=weighted),\n",
       " 'recall': make_scorer(recall_score),\n",
       " 'recall_macro': make_scorer(recall_score, pos_label=None, average=macro),\n",
       " 'recall_micro': make_scorer(recall_score, pos_label=None, average=micro),\n",
       " 'recall_samples': make_scorer(recall_score, pos_label=None, average=samples),\n",
       " 'recall_weighted': make_scorer(recall_score, pos_label=None, average=weighted),\n",
       " 'f1': make_scorer(f1_score),\n",
       " 'f1_macro': make_scorer(f1_score, pos_label=None, average=macro),\n",
       " 'f1_micro': make_scorer(f1_score, pos_label=None, average=micro),\n",
       " 'f1_samples': make_scorer(f1_score, pos_label=None, average=samples),\n",
       " 'f1_weighted': make_scorer(f1_score, pos_label=None, average=weighted)}"
      ]
     },
     "execution_count": 140,
     "metadata": {},
     "output_type": "execute_result"
    }
   ],
   "source": [
    "sklearn.metrics.SCORERS"
   ]
  },
  {
   "cell_type": "code",
   "execution_count": 146,
   "metadata": {
    "ExecuteTime": {
     "end_time": "2018-12-06T05:11:13.165753Z",
     "start_time": "2018-12-06T05:10:35.569277Z"
    }
   },
   "outputs": [
    {
     "data": {
      "text/plain": [
       "{'min_samples_leaf': 0.011666666666666665, 'n_estimators': 95}"
      ]
     },
     "execution_count": 146,
     "metadata": {},
     "output_type": "execute_result"
    }
   ],
   "source": [
    "grid_params = dict(min_samples_leaf=np.linspace(.005,.015,num=4), n_estimators=range(90,101,5))\n",
    "gs = GridSearchCV(estimator=RandomForestRegressor(), param_grid=grid_params, cv=8, scoring='r2')\n",
    "gs.fit(base_X, base_y)\n",
    "gs.best_params_"
   ]
  },
  {
   "cell_type": "code",
   "execution_count": 135,
   "metadata": {
    "ExecuteTime": {
     "end_time": "2018-12-06T05:02:28.861534Z",
     "start_time": "2018-12-06T05:02:27.555864Z"
    }
   },
   "outputs": [
    {
     "data": {
      "text/plain": [
       "{'min_samples_leaf': 0.05000000000000001}"
      ]
     },
     "execution_count": 135,
     "metadata": {},
     "output_type": "execute_result"
    }
   ],
   "source": [
    "grid_params = dict(min_samples_leaf=np.linspace(.01,.1,num=10))\n",
    "gs = GridSearchCV(estimator=DecisionTreeRegressor(), param_grid=grid_params, cv=10, scoring='neg_mean_squared_error')\n",
    "gs.fit(base_X, base_y)\n",
    "gs.best_params_"
   ]
  },
  {
   "cell_type": "code",
   "execution_count": 154,
   "metadata": {
    "ExecuteTime": {
     "end_time": "2018-12-06T05:16:41.571038Z",
     "start_time": "2018-12-06T05:16:41.560493Z"
    }
   },
   "outputs": [],
   "source": [
    "def fit_Random_Cactus(X, y, best_params):\n",
    "    X_train, X_test, y_train, y_test = train_test_split(X, y, test_size=0.25)\n",
    "    base_rf = RandomForestRegressor(**best_params)\n",
    "    base_rf.fit(X_train, y_train)\n",
    "    base_rf_pred = base_rf.predict(X_test)\n",
    "    base_rf_RMSE = rmse(base_rf_pred, y_test)\n",
    "    print(f\"Decision Tree Regressor RMSE: {base_rf_RMSE:.3f}\")\n",
    "    print(f\"Random Forest Regressor R^2: {base_rf.score(X_test, y_test):.3f}\")\n",
    "    \n",
    "    leaf_id_trees = base_rf.apply(X_train)\n",
    "    regressors = dict()\n",
    "    for i, leaves in enumerate(leaf_id_trees.transpose()):\n",
    "        regressors_tree = dict()\n",
    "        leaf_nodes = set(leaves)\n",
    "        for leaf in leaf_nodes:\n",
    "            leaf_sample_X = X_train[leaves==leaf]\n",
    "            leaf_sample_y = y_train[leaves==leaf]\n",
    "            leaf_regression = Lasso()\n",
    "            leaf_regression.fit(leaf_sample_X, leaf_sample_y)\n",
    "            regressors_tree[leaf] = leaf_regression\n",
    "        regressors[i] = regressors_tree\n",
    "    \n",
    "    leaf_id_test_trees = base_rf.apply(X_test)\n",
    "    y_pred = [[] for _ in range(leaf_id_test_trees.shape[0])]\n",
    "    for i, leaves in enumerate(leaf_id_test_trees.transpose()):\n",
    "        for j, leaf in enumerate(leaves):\n",
    "            leaf_regression = regressors[i][leaf]\n",
    "            pred_j = leaf_regression.predict(pd.DataFrame(X_test.iloc[j,:]).transpose())\n",
    "            y_pred[j].append(pred_j[0])\n",
    "    y_pred = [sum(row)/len(row) for row in y_pred]\n",
    "        \n",
    "    print(f\"Random Cactus RMSE: {rmse(y_pred, y_test):.3f}\")\n",
    "    print(f\"Random Cactus R^2: {r2_score(y_test, y_pred):.3f}\")"
   ]
  },
  {
   "cell_type": "code",
   "execution_count": 150,
   "metadata": {
    "ExecuteTime": {
     "end_time": "2018-12-06T05:14:20.032877Z",
     "start_time": "2018-12-06T05:14:20.024470Z"
    }
   },
   "outputs": [],
   "source": [
    "def fit_Lasso_tree(X, y, best_params):\n",
    "    X_train, X_test, y_train, y_test = train_test_split(X, y, test_size=0.25)\n",
    "    base_dt = DecisionTreeRegressor(**best_params)\n",
    "    base_dt.fit(X_train, y_train)\n",
    "    base_dt_pred = base_dt.predict(X_test)\n",
    "    base_dt_RMSE = rmse(base_dt_pred, y_test)\n",
    "    print(f\"Decision Tree Regressor RMSE: {base_dt_RMSE:.3f}\")\n",
    "    \n",
    "    leaf_id = base_dt.apply(X_train)\n",
    "    regressors = dict()\n",
    "    leaf_nodes = set(leaf_id)\n",
    "    for leaf in leaf_nodes:\n",
    "        leaf_sample_X = X_train[leaf_id==leaf]\n",
    "        leaf_sample_y = y_train[leaf_id==leaf]\n",
    "        leaf_regression = Lasso()\n",
    "        leaf_regression.fit(leaf_sample_X, leaf_sample_y)\n",
    "        regressors[leaf] = leaf_regression\n",
    "    \n",
    "    leaf_id_test = base_dt.apply(X_test)\n",
    "    y_pred = []\n",
    "    for i, leaf in enumerate(leaf_id_test):\n",
    "        leaf_regression = regressors[leaf]\n",
    "        pred_i = leaf_regression.predict(pd.DataFrame(X_test.iloc[i,:]).transpose())\n",
    "        y_pred.append(pred_i[0])\n",
    "        \n",
    "    print(f\"Lasso Tree RMSE: {rmse(y_pred, y_test):.3f}\")\n",
    "    print(f\"Lasso Tree R^2: {r2_score(y_test, y_pred):.3f}\")"
   ]
  },
  {
   "cell_type": "code",
   "execution_count": 74,
   "metadata": {
    "ExecuteTime": {
     "end_time": "2018-12-04T23:21:07.760879Z",
     "start_time": "2018-12-04T23:21:06.122181Z"
    }
   },
   "outputs": [
    {
     "name": "stdout",
     "output_type": "stream",
     "text": [
      "Decision Tree Regressor RMSE: 0.828\n",
      "Lasso Tree RMSE: 0.824\n",
      "Decision Tree Regressor RMSE: 0.830\n",
      "Lasso Tree RMSE: 0.827\n"
     ]
    }
   ],
   "source": [
    "fit_Lasso_tree(base_X, base_y, {'min_samples_leaf':100})\n",
    "fit_Lasso_tree(base_X, base_y, gs.best_params_)"
   ]
  },
  {
   "cell_type": "code",
   "execution_count": 160,
   "metadata": {
    "ExecuteTime": {
     "end_time": "2018-12-06T07:37:44.309718Z",
     "start_time": "2018-12-06T07:36:23.260088Z"
    }
   },
   "outputs": [
    {
     "name": "stdout",
     "output_type": "stream",
     "text": [
      "Decision Tree Regressor RMSE: 6.868\n",
      "Random Forest Regressor R^2: 0.549\n",
      "Random Cactus RMSE: 6.837\n",
      "Random Cactus R^2: 0.553\n"
     ]
    }
   ],
   "source": [
    "# fit_Random_Cactus(base_X, base_y, {'min_samples_leaf':75, 'n_estimators':40})\n",
    "fit_Random_Cactus(base_X, base_y, gs.best_params_)"
   ]
  },
  {
   "cell_type": "code",
   "execution_count": 155,
   "metadata": {
    "ExecuteTime": {
     "end_time": "2018-12-06T05:31:26.795413Z",
     "start_time": "2018-12-06T05:31:26.779872Z"
    }
   },
   "outputs": [
    {
     "data": {
      "text/plain": [
       "6.935778304814304"
      ]
     },
     "execution_count": 155,
     "metadata": {},
     "output_type": "execute_result"
    }
   ],
   "source": [
    "X_train, X_test, y_train, y_test = train_test_split(base_X, base_y, test_size=0.25)\n",
    "lasso = LinearRegression()\n",
    "lasso.fit(X_train, y_train)\n",
    "y_pred = lasso.predict(X_test)\n",
    "rmse(y_pred, y_test)"
   ]
  },
  {
   "cell_type": "code",
   "execution_count": 156,
   "metadata": {
    "ExecuteTime": {
     "end_time": "2018-12-06T05:31:34.125523Z",
     "start_time": "2018-12-06T05:31:34.119937Z"
    }
   },
   "outputs": [
    {
     "data": {
      "text/plain": [
       "array([ 0.55611743,  0.92786832,  0.04041201,  0.11809028,  0.0062149 ,\n",
       "       -0.04541861])"
      ]
     },
     "execution_count": 156,
     "metadata": {},
     "output_type": "execute_result"
    }
   ],
   "source": [
    "lasso.coef_"
   ]
  },
  {
   "cell_type": "code",
   "execution_count": 134,
   "metadata": {
    "ExecuteTime": {
     "end_time": "2018-12-05T00:29:46.943626Z",
     "start_time": "2018-12-05T00:29:46.937568Z"
    }
   },
   "outputs": [
    {
     "data": {
      "text/plain": [
       "(735, 15)"
      ]
     },
     "execution_count": 134,
     "metadata": {},
     "output_type": "execute_result"
    }
   ],
   "source": [
    "X_test.shape"
   ]
  },
  {
   "cell_type": "code",
   "execution_count": null,
   "metadata": {},
   "outputs": [],
   "source": []
  },
  {
   "cell_type": "code",
   "execution_count": 21,
   "metadata": {},
   "outputs": [],
   "source": [
    "\"\"\"Hand Picked Variables from R:\n",
    "predscores+tmhalfsc+patt+ypa+ratt+ypr+sackyds\"\"\"\n",
    "manual = reduced[[\"scores\", \"predscores\", \"tmhalfsc\", \"patt\", \"ypa\", \"ratt\", \"ypr\", \"sackyds\"]]"
   ]
  },
  {
   "cell_type": "code",
   "execution_count": 22,
   "metadata": {},
   "outputs": [],
   "source": [
    "man_X = manual.drop(columns=\"scores\")"
   ]
  },
  {
   "cell_type": "code",
   "execution_count": 23,
   "metadata": {},
   "outputs": [],
   "source": [
    "man_y = manual[\"scores\"]"
   ]
  },
  {
   "cell_type": "code",
   "execution_count": 24,
   "metadata": {},
   "outputs": [],
   "source": [
    "man_X_train, man_X_test, man_y_train, man_y_test = train_test_split(man_X, man_y, test_size=0.25)"
   ]
  },
  {
   "cell_type": "code",
   "execution_count": 25,
   "metadata": {},
   "outputs": [
    {
     "data": {
      "text/plain": [
       "RandomForestRegressor(bootstrap=True, criterion='mse', max_depth=None,\n",
       "           max_features='auto', max_leaf_nodes=None,\n",
       "           min_impurity_decrease=0.0, min_impurity_split=None,\n",
       "           min_samples_leaf=1, min_samples_split=2,\n",
       "           min_weight_fraction_leaf=0.0, n_estimators=100, n_jobs=None,\n",
       "           oob_score=False, random_state=None, verbose=0, warm_start=False)"
      ]
     },
     "execution_count": 25,
     "metadata": {},
     "output_type": "execute_result"
    }
   ],
   "source": [
    "man_rf = RandomForestRegressor(n_estimators=100)\n",
    "man_rf.fit(man_X_train, man_y_train)"
   ]
  },
  {
   "cell_type": "code",
   "execution_count": 26,
   "metadata": {},
   "outputs": [],
   "source": [
    "man_rf_pred = man_rf.predict(man_X_test)"
   ]
  },
  {
   "cell_type": "code",
   "execution_count": 28,
   "metadata": {},
   "outputs": [
    {
     "name": "stdout",
     "output_type": "stream",
     "text": [
      "Manual Random Forest Regressor RMSE: 0.821\n",
      "Manual Random Forest Regressor R^2: 0.534\n"
     ]
    }
   ],
   "source": [
    "man_rf_RMSE = rmse(man_rf_pred, man_y_test)\n",
    "man_rf_r2 = man_rf.score(man_X_test, man_y_test)\n",
    "print(f\"Manual Random Forest Regressor RMSE: {man_rf_RMSE:.3f}\")\n",
    "print(f\"Manual Random Forest Regressor R^2: {man_rf_r2:.3f}\")"
   ]
  },
  {
   "cell_type": "code",
   "execution_count": 29,
   "metadata": {},
   "outputs": [
    {
     "data": {
      "text/plain": [
       "DecisionTreeRegressor(criterion='mse', max_depth=None, max_features=None,\n",
       "           max_leaf_nodes=None, min_impurity_decrease=0.0,\n",
       "           min_impurity_split=None, min_samples_leaf=1,\n",
       "           min_samples_split=2, min_weight_fraction_leaf=0.0,\n",
       "           presort=False, random_state=None, splitter='best')"
      ]
     },
     "execution_count": 29,
     "metadata": {},
     "output_type": "execute_result"
    }
   ],
   "source": [
    "man_dt = DecisionTreeRegressor()\n",
    "man_dt.fit(man_X_train, man_y_train)"
   ]
  },
  {
   "cell_type": "code",
   "execution_count": 30,
   "metadata": {},
   "outputs": [],
   "source": [
    "man_dt_pred = man_dt.predict(man_X_test)"
   ]
  },
  {
   "cell_type": "code",
   "execution_count": 31,
   "metadata": {},
   "outputs": [
    {
     "name": "stdout",
     "output_type": "stream",
     "text": [
      "Manual Decision Tree Regressor RMSE: 1.128\n",
      "Manual Decision Tree Regressor R^2: 0.119\n"
     ]
    }
   ],
   "source": [
    "man_dt_RMSE = rmse(man_dt_pred, man_y_test)\n",
    "man_dt_r2 = man_dt.score(man_X_test, man_y_test)\n",
    "print(f\"Manual Decision Tree Regressor RMSE: {man_dt_RMSE:.3f}\")\n",
    "print(f\"Manual Decision Tree Regressor R^2: {man_dt_r2:.3f}\")"
   ]
  },
  {
   "cell_type": "markdown",
   "metadata": {},
   "source": [
    "## Grid Search for Manual Random Forest Regressor"
   ]
  },
  {
   "cell_type": "code",
   "execution_count": 32,
   "metadata": {},
   "outputs": [],
   "source": [
    "from sklearn.pipeline import Pipeline\n",
    "from sklearn.model_selection import GridSearchCV, KFold"
   ]
  },
  {
   "cell_type": "code",
   "execution_count": 33,
   "metadata": {},
   "outputs": [],
   "source": [
    "rf = RandomForestRegressor()\n",
    "search = {\"criterion\":[\"mse\"], \"n_estimators\":list(range(95, 105, 1)), \n",
    "         \"max_depth\":[5], \"max_features\":[\"auto\"]}"
   ]
  },
  {
   "cell_type": "code",
   "execution_count": 34,
   "metadata": {},
   "outputs": [],
   "source": [
    "rf_gs = GridSearchCV(rf, search, cv=10)"
   ]
  },
  {
   "cell_type": "code",
   "execution_count": 35,
   "metadata": {},
   "outputs": [
    {
     "data": {
      "text/plain": [
       "GridSearchCV(cv=10, error_score='raise-deprecating',\n",
       "       estimator=RandomForestRegressor(bootstrap=True, criterion='mse', max_depth=None,\n",
       "           max_features='auto', max_leaf_nodes=None,\n",
       "           min_impurity_decrease=0.0, min_impurity_split=None,\n",
       "           min_samples_leaf=1, min_samples_split=2,\n",
       "           min_weight_fraction_leaf=0.0, n_estimators='warn', n_jobs=None,\n",
       "           oob_score=False, random_state=None, verbose=0, warm_start=False),\n",
       "       fit_params=None, iid='warn', n_jobs=None,\n",
       "       param_grid={'criterion': ['mse'], 'n_estimators': [95, 96, 97, 98, 99, 100, 101, 102, 103, 104], 'max_depth': [5], 'max_features': ['auto']},\n",
       "       pre_dispatch='2*n_jobs', refit=True, return_train_score='warn',\n",
       "       scoring=None, verbose=0)"
      ]
     },
     "execution_count": 35,
     "metadata": {},
     "output_type": "execute_result"
    }
   ],
   "source": [
    "rf_gs.fit(man_X_train, man_y_train)"
   ]
  },
  {
   "cell_type": "code",
   "execution_count": 36,
   "metadata": {},
   "outputs": [
    {
     "name": "stdout",
     "output_type": "stream",
     "text": [
      "criterion  ->  mse\n",
      "max_depth  ->  5\n",
      "max_features  ->  auto\n",
      "n_estimators  ->  96\n"
     ]
    }
   ],
   "source": [
    "best_prms = rf_gs.best_params_\n",
    "for param in best_prms:\n",
    "    print(param, \" -> \", best_prms[param])"
   ]
  },
  {
   "cell_type": "code",
   "execution_count": 37,
   "metadata": {
    "scrolled": true
   },
   "outputs": [
    {
     "data": {
      "text/plain": [
       "RandomForestRegressor(bootstrap=True, criterion='mse', max_depth=5,\n",
       "           max_features='auto', max_leaf_nodes=None,\n",
       "           min_impurity_decrease=0.0, min_impurity_split=None,\n",
       "           min_samples_leaf=1, min_samples_split=2,\n",
       "           min_weight_fraction_leaf=0.0, n_estimators=97, n_jobs=None,\n",
       "           oob_score=False, random_state=None, verbose=0, warm_start=False)"
      ]
     },
     "execution_count": 37,
     "metadata": {},
     "output_type": "execute_result"
    }
   ],
   "source": [
    "best_rf = RandomForestRegressor(criterion=\"mse\", max_depth=5, max_features=\"auto\", n_estimators=97)\n",
    "best_rf.fit(man_X_train, man_y_train)"
   ]
  },
  {
   "cell_type": "code",
   "execution_count": 38,
   "metadata": {},
   "outputs": [],
   "source": [
    "best_rf_pred = best_rf.predict(man_X_test)"
   ]
  },
  {
   "cell_type": "code",
   "execution_count": 39,
   "metadata": {},
   "outputs": [
    {
     "name": "stdout",
     "output_type": "stream",
     "text": [
      "Best Random Forest Regressor RMSE: 0.811\n",
      "Best Random Forest Regressor R^2: 0.545\n"
     ]
    }
   ],
   "source": [
    "best_rf_RMSE = rmse(best_rf_pred, man_y_test)\n",
    "best_rf_r2 = best_rf.score(man_X_test, man_y_test)\n",
    "print(f\"Best Random Forest Regressor RMSE: {best_rf_RMSE:.3f}\")\n",
    "print(f\"Best Random Forest Regressor R^2: {best_rf_r2:.3f}\")"
   ]
  },
  {
   "cell_type": "markdown",
   "metadata": {},
   "source": [
    "## Transformation of tmhalfsc"
   ]
  },
  {
   "cell_type": "code",
   "execution_count": 5,
   "metadata": {},
   "outputs": [],
   "source": [
    "reset -fs"
   ]
  },
  {
   "cell_type": "code",
   "execution_count": 6,
   "metadata": {},
   "outputs": [],
   "source": [
    "from sklearn.ensemble import RandomForestRegressor\n",
    "from sklearn.tree import DecisionTreeRegressor\n",
    "from sklearn.model_selection import train_test_split\n",
    "from math import sqrt\n",
    "import numpy as np\n",
    "import pandas as pd"
   ]
  },
  {
   "cell_type": "code",
   "execution_count": 7,
   "metadata": {},
   "outputs": [],
   "source": [
    "reduced = pd.read_csv(\"../data/reduced.csv\")\n",
    "reduced = reduced.drop(columns = reduced.columns[0])"
   ]
  },
  {
   "cell_type": "code",
   "execution_count": 8,
   "metadata": {},
   "outputs": [],
   "source": [
    "X = reduced.drop(columns=\"scores\")\n",
    "y = reduced[\"scores\"]"
   ]
  },
  {
   "cell_type": "code",
   "execution_count": 9,
   "metadata": {},
   "outputs": [],
   "source": [
    "tmhalf = np.array(X.tmhalfsc)"
   ]
  },
  {
   "cell_type": "code",
   "execution_count": 10,
   "metadata": {},
   "outputs": [],
   "source": [
    "sqrt_tmhalf = np.sqrt(tmhalf)\n",
    "log_tmhalf = []\n",
    "for i in range(len(tmhalf)):\n",
    "    if tmhalf[i] != 0:\n",
    "        log_tmhalf.append(np.log(tmhalf[i]))\n",
    "    else:\n",
    "        log_tmhalf.append(tmhalf[i])"
   ]
  },
  {
   "cell_type": "code",
   "execution_count": 37,
   "metadata": {},
   "outputs": [],
   "source": [
    "X = X.drop(columns=\"tmhalfsc\")\n",
    "X[\"tmhalfsc\"] = sqrt_tmhalf\n",
    "# X[\"tmhalfsc\"] = log_tmhalf"
   ]
  },
  {
   "cell_type": "code",
   "execution_count": 38,
   "metadata": {},
   "outputs": [],
   "source": [
    "def rmse(pred, y):\n",
    "    n = len(y)\n",
    "    RMSE = np.sqrt(sum((pred - y)**2) / n)\n",
    "    return RMSE"
   ]
  },
  {
   "cell_type": "code",
   "execution_count": 39,
   "metadata": {},
   "outputs": [],
   "source": [
    "rmse_scores = []\n",
    "r2_scores = []\n",
    "rand_state = range(1,100)\n",
    "for i in rand_state:\n",
    "    X_train, X_test, y_train, y_test = train_test_split(X, y, test_size=0.25, random_state=i)\n",
    "    rf = RandomForestRegressor(n_estimators=97, criterion=\"mse\", max_depth=5, max_features=\"auto\")\n",
    "    rf.fit(X_train, y_train)\n",
    "    pred = rf.predict(X_test)\n",
    "    r2_scores.append(rf.score(X_test, y_test))\n",
    "    rmse_scores.append(rmse(pred, y_test))"
   ]
  },
  {
   "cell_type": "code",
   "execution_count": 40,
   "metadata": {},
   "outputs": [],
   "source": [
    "scores = list(zip(rand_state, rmse_scores, r2_scores))"
   ]
  },
  {
   "cell_type": "code",
   "execution_count": 41,
   "metadata": {},
   "outputs": [
    {
     "name": "stdout",
     "output_type": "stream",
     "text": [
      "Models sorted on RMSE ascending:\n",
      "Random State: 69\n",
      "RMSE: 0.7571\n",
      "R^2: 0.5941\n"
     ]
    }
   ],
   "source": [
    "best_state = sorted(scores, key=lambda x: x[1])[0]\n",
    "print(\"Models sorted on RMSE ascending:\")\n",
    "print(f\"Random State: {best_state[0]}\")\n",
    "print(f\"RMSE: {best_state[1]:.4f}\")\n",
    "print(f\"R^2: {best_state[2]:.4f}\")"
   ]
  },
  {
   "cell_type": "code",
   "execution_count": 42,
   "metadata": {},
   "outputs": [
    {
     "name": "stdout",
     "output_type": "stream",
     "text": [
      "Mean RMSE: 0.8253399573556494\n",
      "Median RMSE: 0.824496993601382\n",
      "Mean R^2: 0.5485405368747742\n",
      "Median R^2: 0.5521310309815644\n"
     ]
    }
   ],
   "source": [
    "print(f\"Mean RMSE: {np.mean(rmse_scores)}\")\n",
    "print(f\"Median RMSE: {np.median(rmse_scores)}\")\n",
    "print(f\"Mean R^2: {np.mean(r2_scores)}\")\n",
    "print(f\"Median R^2: {np.median(r2_scores)}\")"
   ]
  },
  {
   "cell_type": "code",
   "execution_count": 43,
   "metadata": {},
   "outputs": [],
   "source": [
    "man_X = X[[\"predscores\", \"tmhalfsc\", \"patt\", \"ypa\", \"ratt\", \"ypr\", \"sackyds\"]]\n",
    "man_y = y"
   ]
  },
  {
   "cell_type": "code",
   "execution_count": 44,
   "metadata": {},
   "outputs": [],
   "source": [
    "man_rmse_scores = []\n",
    "man_r2_scores = []\n",
    "for i in rand_state:\n",
    "    man_X_train, man_X_test, man_y_train, man_y_test = train_test_split(man_X, man_y, test_size=0.25, random_state=i)\n",
    "    man_rf = RandomForestRegressor(n_estimators=97, criterion=\"mse\", max_depth=5, max_features=\"auto\")\n",
    "    man_rf.fit(man_X_train, man_y_train)\n",
    "    man_pred = man_rf.predict(man_X_test)\n",
    "    man_r2_scores.append(man_rf.score(man_X_test, man_y_test))\n",
    "    man_rmse_scores.append(rmse(man_pred, man_y_test))"
   ]
  },
  {
   "cell_type": "code",
   "execution_count": 45,
   "metadata": {},
   "outputs": [],
   "source": [
    "man_scores = list(zip(rand_state, man_rmse_scores, man_r2_scores))"
   ]
  },
  {
   "cell_type": "code",
   "execution_count": 46,
   "metadata": {},
   "outputs": [
    {
     "name": "stdout",
     "output_type": "stream",
     "text": [
      "Manual models sorted on RMSE ascending:\n",
      "Random State: 69\n",
      "Manual RMSE: 0.7546\n",
      "Manual R^2: 0.5968\n"
     ]
    }
   ],
   "source": [
    "best_state = sorted(man_scores, key=lambda x: x[1])[0]\n",
    "print(\"Manual models sorted on RMSE ascending:\")\n",
    "print(f\"Random State: {best_state[0]}\")\n",
    "print(f\"Manual RMSE: {best_state[1]:.4f}\")\n",
    "print(f\"Manual R^2: {best_state[2]:.4f}\")"
   ]
  },
  {
   "cell_type": "code",
   "execution_count": 47,
   "metadata": {},
   "outputs": [
    {
     "name": "stdout",
     "output_type": "stream",
     "text": [
      "Manual mean RMSE: 0.8267525649229137\n",
      "Manual median RMSE: 0.8281975914892602\n",
      "Manual mean R^2: 0.5469124796970818\n",
      "Manual median R^2: 0.5498250473093915\n"
     ]
    }
   ],
   "source": [
    "print(f\"Manual mean RMSE: {np.mean(man_rmse_scores)}\")\n",
    "print(f\"Manual median RMSE: {np.median(man_rmse_scores)}\")\n",
    "print(f\"Manual mean R^2: {np.mean(man_r2_scores)}\")\n",
    "print(f\"Manual median R^2: {np.median(man_r2_scores)}\")"
   ]
  },
  {
   "cell_type": "code",
   "execution_count": null,
   "metadata": {},
   "outputs": [],
   "source": []
  }
 ],
 "metadata": {
  "kernelspec": {
   "display_name": "Python 3",
   "language": "python",
   "name": "python3"
  },
  "toc": {
   "base_numbering": 1,
   "nav_menu": {},
   "number_sections": true,
   "sideBar": true,
   "skip_h1_title": false,
   "title_cell": "Table of Contents",
   "title_sidebar": "Contents",
   "toc_cell": false,
   "toc_position": {},
   "toc_section_display": true,
   "toc_window_display": false
  }
 },
 "nbformat": 4,
 "nbformat_minor": 2
}
